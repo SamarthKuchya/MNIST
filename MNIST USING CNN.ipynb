{
 "cells": [
  {
   "cell_type": "code",
   "execution_count": 1,
   "id": "4c9174d7-14be-4879-b8b7-259d5796bd5a",
   "metadata": {},
   "outputs": [],
   "source": [
    "import numpy as np\n",
    "import matplotlib.pyplot as plt\n",
    "import tensorflow as tf\n",
    "import keras\n"
   ]
  },
  {
   "cell_type": "code",
   "execution_count": 2,
   "id": "ac686242-66b1-4469-bb14-1cf99650193f",
   "metadata": {},
   "outputs": [],
   "source": [
    "from keras.datasets import mnist"
   ]
  },
  {
   "cell_type": "code",
   "execution_count": 3,
   "id": "1e62329c-8a80-42a5-af6b-16e4c24d16d9",
   "metadata": {},
   "outputs": [
    {
     "name": "stdout",
     "output_type": "stream",
     "text": [
      "[PhysicalDevice(name='/physical_device:GPU:0', device_type='GPU')]\n",
      "1 Physical GPUs, 1 Logical GPU\n"
     ]
    }
   ],
   "source": [
    "gpus = tf.config.list_physical_devices('GPU')\n",
    "if gpus:\n",
    "  # Restrict TensorFlow to only use the first GPU\n",
    "  try:\n",
    "    tf.config.set_visible_devices(gpus[0], 'GPU')\n",
    "    print(gpus)\n",
    "    logical_gpus = tf.config.list_logical_devices('GPU')\n",
    "    print(len(gpus), \"Physical GPUs,\", len(logical_gpus), \"Logical GPU\")\n",
    "  except RuntimeError as e:\n",
    "    # Visible devices must be set before GPUs have been initialized\n",
    "    print(e)"
   ]
  },
  {
   "cell_type": "code",
   "execution_count": 4,
   "id": "69ed491e-83df-46c4-8a28-449abe4ff40d",
   "metadata": {},
   "outputs": [],
   "source": [
    "(train_X,train_Y),(test_X,test_Y)=mnist.load_data()"
   ]
  },
  {
   "cell_type": "code",
   "execution_count": 5,
   "id": "b74e74b7-6594-4ec4-bc63-096932a3c5bb",
   "metadata": {},
   "outputs": [
    {
     "name": "stdout",
     "output_type": "stream",
     "text": [
      "(60000, 28, 28) (60000,) (10000, 28, 28) (10000,)\n"
     ]
    }
   ],
   "source": [
    "print(train_X.shape,train_Y.shape,test_X.shape,test_Y.shape)"
   ]
  },
  {
   "cell_type": "code",
   "execution_count": 6,
   "id": "b2e6200d-ce13-44f3-a4ec-207c0836f9e4",
   "metadata": {},
   "outputs": [
    {
     "name": "stdout",
     "output_type": "stream",
     "text": [
      "1\n"
     ]
    },
    {
     "data": {
      "image/png": "[encoded data removed]",
      "text/plain": [
       "<Figure size 640x480 with 1 Axes>"
      ]
     },
     "metadata": {},
     "output_type": "display_data"
    }
   ],
   "source": [
    "plt.imshow(train_X[200],cmap='Greys_r')\n",
    "print(train_Y[200])"
   ]
  },
  {
   "cell_type": "code",
   "execution_count": 7,
   "id": "0395884e-d7bd-4dff-8599-f75a3ef185b3",
   "metadata": {},
   "outputs": [
    {
     "name": "stdout",
     "output_type": "stream",
     "text": [
      "8\n"
     ]
    },
    {
     "data": {
      "image/png": "[encoded data removed]",
      "text/plain": [
       "<Figure size 640x480 with 1 Axes>"
      ]
     },
     "metadata": {},
     "output_type": "display_data"
    }
   ],
   "source": [
    "# to convert matrix into image\n",
    "plt.imshow(train_X[6284],cmap='Greys')\n",
    "print(train_Y[6284])"
   ]
  },
  {
   "cell_type": "code",
   "execution_count": 8,
   "id": "53e88bf2-8ea9-41c5-920c-f81013e24cea",
   "metadata": {},
   "outputs": [],
   "source": [
    "# # one hot encoder vector form\n",
    "# count=0\n",
    "# for i in train_Y:\n",
    "#     temp=np.zeros(len(np.unique(train_Y)))\n",
    "#     temp[i]=1\n",
    "#     print('on count:',count,'/',train_Y.shape,end='\\r')\n",
    "#     train_Y[count]=temp\n",
    "#     count+=1\n",
    "#     # print(temp)\n",
    "#     # break"
   ]
  },
  {
   "cell_type": "code",
   "execution_count": 9,
   "id": "0ed090b5-5b5d-4acf-8f2e-c843031003c8",
   "metadata": {},
   "outputs": [
    {
     "name": "stdout",
     "output_type": "stream",
     "text": [
      "[0 1 2 3 4 5 6 7 8 9] 10\n"
     ]
    }
   ],
   "source": [
    "print(np.unique(train_Y),len(np.unique(train_Y)))"
   ]
  },
  {
   "cell_type": "code",
   "execution_count": 10,
   "id": "978a05eb-fe24-4221-9d1b-2383c1058756",
   "metadata": {},
   "outputs": [],
   "source": [
    "# count=0\n",
    "# for i in test_Y:\n",
    "#     temp=np.zeros(len(np.unique(test_Y)))\n",
    "#     temp[i]=1\n",
    "#     print('on count:',count,'/',test_Y.shape,end='\\r')\n",
    "#     # test_Y[count]=np.zeros(len(np.unique(test_Y)))\n",
    "#     # test_Y[count]=temp\n",
    "#     count+=1"
   ]
  },
  {
   "cell_type": "code",
   "execution_count": 11,
   "id": "b5de238d-e2c3-440b-bf95-1c1776738a12",
   "metadata": {},
   "outputs": [],
   "source": [
    "from tensorflow.keras.utils import to_categorical\n",
    "train_Y=to_categorical(train_Y)\n",
    "test_Y=to_categorical(test_Y)"
   ]
  },
  {
   "cell_type": "code",
   "execution_count": 12,
   "id": "8d086c14-14d0-4e7d-aa77-96725f0b4cf0",
   "metadata": {},
   "outputs": [
    {
     "name": "stdout",
     "output_type": "stream",
     "text": [
      "[0. 0. 0. 0. 0. 0. 0. 0. 1. 0.]\n"
     ]
    },
    {
     "data": {
      "image/png": "[encoded data removed]",
      "text/plain": [
       "<Figure size 640x480 with 1 Axes>"
      ]
     },
     "metadata": {},
     "output_type": "display_data"
    }
   ],
   "source": [
    "plt.imshow(train_X[6284],cmap='Greys')\n",
    "print(train_Y[6284])"
   ]
  },
  {
   "cell_type": "code",
   "execution_count": 13,
   "id": "5234e890-0bb8-4e9b-a7bb-07fa25653ec1",
   "metadata": {},
   "outputs": [],
   "source": [
    "train_X=train_X/255\n",
    "test_X=test_X/255"
   ]
  },
  {
   "cell_type": "code",
   "execution_count": 14,
   "id": "e9eaa866-bb99-4fd5-ba93-746c19a77ad0",
   "metadata": {},
   "outputs": [
    {
     "name": "stdout",
     "output_type": "stream",
     "text": [
      "(60000, 28, 28) (60000, 10)\n",
      "(60000, 28, 28, 1) (60000, 10)\n"
     ]
    }
   ],
   "source": [
    "print(train_X.shape,train_Y.shape)\n",
    "train_X = np.expand_dims(train_X,-1) \n",
    "test_X = np.expand_dims(test_X,-1)\n",
    "print(train_X.shape,train_Y.shape)"
   ]
  },
  {
   "cell_type": "code",
   "execution_count": 15,
   "id": "8bc66138-529e-42c4-bcb3-d743dfb132f0",
   "metadata": {},
   "outputs": [
    {
     "name": "stdout",
     "output_type": "stream",
     "text": [
      "[0. 0. 0. 0. 0. 0. 0. 0. 1. 0.]\n"
     ]
    }
   ],
   "source": [
    "# plt.imshow(train_X[6284],cmap='Greys')\n",
    "print(train_Y[6284])"
   ]
  },
  {
   "cell_type": "code",
   "execution_count": 16,
   "id": "c08920ab-ac1c-4477-8f1a-96ed141645b3",
   "metadata": {},
   "outputs": [],
   "source": [
    "from tensorflow.keras.models import Sequential"
   ]
  },
  {
   "cell_type": "code",
   "execution_count": 17,
   "id": "81a53037-b57c-47ef-af9e-87faffebacd8",
   "metadata": {},
   "outputs": [],
   "source": [
    "img_shape=(28,28,1)"
   ]
  },
  {
   "cell_type": "code",
   "execution_count": 18,
   "id": "709c9ec9-e492-48f7-bb21-a42adb29a0ff",
   "metadata": {},
   "outputs": [],
   "source": [
    "model=Sequential([\n",
    "    keras.Input(shape=img_shape),\n",
    "    keras.layers.Conv2D(20,kernel_size=(3,3),strides=(1,1),padding='valid',activation='relu'),\n",
    "    keras.layers.MaxPool2D(pool_size=(5,5),strides=(1,1),padding=\"same\"),\n",
    "    \n",
    "    keras.layers.Conv2D(40,kernel_size=(3,3),strides=(1,1),padding='valid',activation='relu'),\n",
    "    keras.layers.MaxPool2D(pool_size=(5,5),strides=(1,1),padding=\"same\"),\n",
    "    \n",
    "    keras.layers.Conv2D(80,kernel_size=(3,3),strides=(1,1),padding='valid',activation='relu'),\n",
    "    keras.layers.MaxPool2D(pool_size=(5,5),strides=(1,1),padding=\"same\"),\n",
    "    \n",
    "    keras.layers.Conv2D(160,kernel_size=(3,3),strides=(1,1),padding='valid',activation='relu'),\n",
    "    keras.layers.MaxPool2D(pool_size=(5,5),strides=(1,1),padding=\"same\"),\n",
    "\n",
    "    keras.layers.Flatten(),\n",
    "    keras.layers.Dense(1000,activation='relu'),\n",
    "    keras.layers.Dense(100,activation='relu'),\n",
    "    keras.layers.Dense(10,activation='softmax')\n",
    "    \n",
    "])"
   ]
  },
  {
   "cell_type": "code",
   "execution_count": 19,
   "id": "62a2a57b-2d4a-4f54-83dc-f75df071e38f",
   "metadata": {},
   "outputs": [
    {
     "name": "stdout",
     "output_type": "stream",
     "text": [
      "Model: \"sequential\"\n",
      "_________________________________________________________________\n",
      " Layer (type)                Output Shape              Param #   \n",
      "=================================================================\n",
      " conv2d (Conv2D)             (None, 26, 26, 20)        200       \n",
      "                                                                 \n",
      " max_pooling2d (MaxPooling2D  (None, 26, 26, 20)       0         \n",
      " )                                                               \n",
      "                                                                 \n",
      " conv2d_1 (Conv2D)           (None, 24, 24, 40)        7240      \n",
      "                                                                 \n",
      " max_pooling2d_1 (MaxPooling  (None, 24, 24, 40)       0         \n",
      " 2D)                                                             \n",
      "                                                                 \n",
      " conv2d_2 (Conv2D)           (None, 22, 22, 80)        28880     \n",
      "                                                                 \n",
      " max_pooling2d_2 (MaxPooling  (None, 22, 22, 80)       0         \n",
      " 2D)                                                             \n",
      "                                                                 \n",
      " conv2d_3 (Conv2D)           (None, 20, 20, 160)       115360    \n",
      "                                                                 \n",
      " max_pooling2d_3 (MaxPooling  (None, 20, 20, 160)      0         \n",
      " 2D)                                                             \n",
      "                                                                 \n",
      " flatten (Flatten)           (None, 64000)             0         \n",
      "                                                                 \n",
      " dense (Dense)               (None, 1000)              64001000  \n",
      "                                                                 \n",
      " dense_1 (Dense)             (None, 100)               100100    \n",
      "                                                                 \n",
      " dense_2 (Dense)             (None, 10)                1010      \n",
      "                                                                 \n",
      "=================================================================\n",
      "Total params: 64,253,790\n",
      "Trainable params: 64,253,790\n",
      "Non-trainable params: 0\n",
      "_________________________________________________________________\n"
     ]
    }
   ],
   "source": [
    "model.summary()"
   ]
  },
  {
   "cell_type": "code",
   "execution_count": 20,
   "id": "11dbc2c4-3bf1-49fa-8200-f6174c4ea163",
   "metadata": {},
   "outputs": [],
   "source": [
    "model.compile(optimizer='Adam',loss='categorical_crossentropy',metrics=['accuracy','Precision','Recall'])"
   ]
  },
  {
   "cell_type": "code",
   "execution_count": 21,
   "id": "b8169a28-ae9e-42a2-8ad3-3ad5d5c4beb2",
   "metadata": {},
   "outputs": [
    {
     "name": "stdout",
     "output_type": "stream",
     "text": [
      "Epoch 1/10\n",
      "240/240 [==============================] - 27s 91ms/step - loss: 0.3862 - accuracy: 0.8844 - precision: 0.9505 - recall: 0.8531 - val_loss: 0.0629 - val_accuracy: 0.9812 - val_precision: 0.9835 - val_recall: 0.9793\n",
      "Epoch 2/10\n",
      "240/240 [==============================] - 21s 89ms/step - loss: 0.0620 - accuracy: 0.9802 - precision: 0.9825 - recall: 0.9785 - val_loss: 0.0472 - val_accuracy: 0.9846 - val_precision: 0.9864 - val_recall: 0.9837\n",
      "Epoch 3/10\n",
      "240/240 [==============================] - 21s 89ms/step - loss: 0.0497 - accuracy: 0.9841 - precision: 0.9860 - recall: 0.9828 - val_loss: 0.0444 - val_accuracy: 0.9859 - val_precision: 0.9876 - val_recall: 0.9850\n",
      "Epoch 4/10\n",
      "240/240 [==============================] - 21s 89ms/step - loss: 0.0432 - accuracy: 0.9864 - precision: 0.9876 - recall: 0.9852 - val_loss: 0.0534 - val_accuracy: 0.9852 - val_precision: 0.9867 - val_recall: 0.9838\n",
      "Epoch 5/10\n",
      "240/240 [==============================] - 21s 89ms/step - loss: 0.0336 - accuracy: 0.9889 - precision: 0.9899 - recall: 0.9882 - val_loss: 0.0448 - val_accuracy: 0.9855 - val_precision: 0.9875 - val_recall: 0.9843\n",
      "Epoch 6/10\n",
      "240/240 [==============================] - 21s 89ms/step - loss: 0.0299 - accuracy: 0.9901 - precision: 0.9909 - recall: 0.9894 - val_loss: 0.0357 - val_accuracy: 0.9893 - val_precision: 0.9901 - val_recall: 0.9887\n",
      "Epoch 7/10\n",
      "240/240 [==============================] - 21s 89ms/step - loss: 0.0267 - accuracy: 0.9915 - precision: 0.9923 - recall: 0.9908 - val_loss: 0.0463 - val_accuracy: 0.9865 - val_precision: 0.9878 - val_recall: 0.9861\n",
      "Epoch 8/10\n",
      "240/240 [==============================] - 21s 89ms/step - loss: 0.0284 - accuracy: 0.9908 - precision: 0.9915 - recall: 0.9901 - val_loss: 0.0318 - val_accuracy: 0.9900 - val_precision: 0.9906 - val_recall: 0.9898\n",
      "Epoch 9/10\n",
      "240/240 [==============================] - 21s 89ms/step - loss: 0.0229 - accuracy: 0.9925 - precision: 0.9932 - recall: 0.9921 - val_loss: 0.0321 - val_accuracy: 0.9908 - val_precision: 0.9915 - val_recall: 0.9903\n",
      "Epoch 10/10\n",
      "240/240 [==============================] - 21s 89ms/step - loss: 0.0209 - accuracy: 0.9931 - precision: 0.9934 - recall: 0.9927 - val_loss: 0.0516 - val_accuracy: 0.9851 - val_precision: 0.9861 - val_recall: 0.9841\n"
     ]
    }
   ],
   "source": [
    "hist=model.fit(train_X,train_Y,batch_size=200,epochs=10,validation_split=0.2)"
   ]
  },
  {
   "cell_type": "code",
   "execution_count": 22,
   "id": "c3239699-9456-44a4-8f2f-5c1287aa7e50",
   "metadata": {},
   "outputs": [
    {
     "data": {
      "text/plain": [
       "{'loss': [0.386249840259552,\n",
       "  0.06197315827012062,\n",
       "  0.049695707857608795,\n",
       "  0.04319040849804878,\n",
       "  0.033590685576200485,\n",
       "  0.029909281060099602,\n",
       "  0.026674695312976837,\n",
       "  0.028423085808753967,\n",
       "  0.02289186790585518,\n",
       "  0.020855654031038284],\n",
       " 'accuracy': [0.8844166398048401,\n",
       "  0.9802291393280029,\n",
       "  0.9840624928474426,\n",
       "  0.9863749742507935,\n",
       "  0.988854169845581,\n",
       "  0.9900624752044678,\n",
       "  0.9914791584014893,\n",
       "  0.9907916784286499,\n",
       "  0.992479145526886,\n",
       "  0.9930624961853027],\n",
       " 'precision': [0.9504688382148743,\n",
       "  0.9825126528739929,\n",
       "  0.9859546422958374,\n",
       "  0.9875955581665039,\n",
       "  0.9898789525032043,\n",
       "  0.9908823370933533,\n",
       "  0.9922799468040466,\n",
       "  0.9914880990982056,\n",
       "  0.9931594133377075,\n",
       "  0.9934325814247131],\n",
       " 'recall': [0.8531249761581421,\n",
       "  0.9785416722297668,\n",
       "  0.9827708601951599,\n",
       "  0.9852499961853027,\n",
       "  0.9882291555404663,\n",
       "  0.9894166588783264,\n",
       "  0.9907708168029785,\n",
       "  0.9901041388511658,\n",
       "  0.992104172706604,\n",
       "  0.9926875233650208],\n",
       " 'val_loss': [0.06292648613452911,\n",
       "  0.0471939854323864,\n",
       "  0.04436280205845833,\n",
       "  0.05341774597764015,\n",
       "  0.04481060802936554,\n",
       "  0.035681627690792084,\n",
       "  0.04634379222989082,\n",
       "  0.03176262974739075,\n",
       "  0.03210121765732765,\n",
       "  0.05157838016748428],\n",
       " 'val_accuracy': [0.981249988079071,\n",
       "  0.98458331823349,\n",
       "  0.9859166741371155,\n",
       "  0.9851666688919067,\n",
       "  0.9854999780654907,\n",
       "  0.9892500042915344,\n",
       "  0.9865000247955322,\n",
       "  0.9900000095367432,\n",
       "  0.9907500147819519,\n",
       "  0.9850833415985107],\n",
       " 'val_precision': [0.9835118651390076,\n",
       "  0.9863803386688232,\n",
       "  0.9875511527061462,\n",
       "  0.9867112636566162,\n",
       "  0.9875417947769165,\n",
       "  0.9900692701339722,\n",
       "  0.9878119826316833,\n",
       "  0.9905754923820496,\n",
       "  0.9914900660514832,\n",
       "  0.9860554337501526],\n",
       " 'val_recall': [0.9792500138282776,\n",
       "  0.9837499856948853,\n",
       "  0.9850000143051147,\n",
       "  0.9838333129882812,\n",
       "  0.984250009059906,\n",
       "  0.9886666536331177,\n",
       "  0.9860833287239075,\n",
       "  0.9897500276565552,\n",
       "  0.9903333187103271,\n",
       "  0.984083354473114]}"
      ]
     },
     "execution_count": 22,
     "metadata": {},
     "output_type": "execute_result"
    }
   ],
   "source": [
    "hist.history"
   ]
  },
  {
   "cell_type": "code",
   "execution_count": 23,
   "id": "b070ab0d-9441-4d93-8594-00b175febc74",
   "metadata": {},
   "outputs": [
    {
     "data": {
      "text/plain": [
       "[<matplotlib.lines.Line2D at 0x178527e9250>]"
      ]
     },
     "execution_count": 23,
     "metadata": {},
     "output_type": "execute_result"
    },
    {
     "data": {
      "image/png": "[encoded data removed]",
      "text/plain": [
       "<Figure size 640x480 with 1 Axes>"
      ]
     },
     "metadata": {},
     "output_type": "display_data"
    }
   ],
   "source": [
    "plt.plot(hist.history['loss'])\n",
    "plt.plot(hist.history['val_loss'])"
   ]
  },
  {
   "cell_type": "code",
   "execution_count": 24,
   "id": "5e8f0059-6a79-4968-96ae-13d81a624d11",
   "metadata": {},
   "outputs": [
    {
     "data": {
      "text/plain": [
       "[<matplotlib.lines.Line2D at 0x1785426f550>]"
      ]
     },
     "execution_count": 24,
     "metadata": {},
     "output_type": "execute_result"
    },
    {
     "data": {
      "image/png": "[encoded data removed]",
      "text/plain": [
       "<Figure size 640x480 with 1 Axes>"
      ]
     },
     "metadata": {},
     "output_type": "display_data"
    }
   ],
   "source": [
    "plt.plot(hist.history['accuracy'])\n",
    "plt.plot(hist.history['val_accuracy'])"
   ]
  },
  {
   "cell_type": "code",
   "execution_count": 25,
   "id": "ab55d4fb-664b-4409-bafe-a5a78b5d2c56",
   "metadata": {},
   "outputs": [
    {
     "name": "stdout",
     "output_type": "stream",
     "text": [
      "313/313 [==============================] - 2s 6ms/step - loss: 0.0439 - accuracy: 0.9876 - precision: 0.9885 - recall: 0.9871\n"
     ]
    }
   ],
   "source": [
    "preds=model.evaluate(test_X,test_Y)"
   ]
  },
  {
   "cell_type": "code",
   "execution_count": 26,
   "id": "e69e98fa-6117-47db-ad9f-062ba0a7152c",
   "metadata": {},
   "outputs": [
    {
     "name": "stdout",
     "output_type": "stream",
     "text": [
      "1/1 [==============================] - 0s 205ms/step\n",
      "1/1 [==============================] - 0s 28ms/step\n",
      "0\n",
      "[1. 0. 0. 0. 0. 0. 0. 0. 0. 0.]\n"
     ]
    },
    {
     "data": {
      "text/plain": [
       "<matplotlib.image.AxesImage at 0x179179f5130>"
      ]
     },
     "execution_count": 26,
     "metadata": {},
     "output_type": "execute_result"
    },
    {
     "data": {
      "image/png": "[encoded data removed]",
      "text/plain": [
       "<Figure size 640x480 with 1 Axes>"
      ]
     },
     "metadata": {},
     "output_type": "display_data"
    }
   ],
   "source": [
    "img=model.predict(test_X[101].reshape(1,28,28))\n",
    "print(np.argmax(model.predict(test_X[101].reshape(1,28,28))))\n",
    "print(test_Y[101])\n",
    "plt.imshow(img)"
   ]
  },
  {
   "cell_type": "code",
   "execution_count": 27,
   "id": "2ec6a1d1-b113-46c6-b002-86f0042674a4",
   "metadata": {},
   "outputs": [
    {
     "name": "stdout",
     "output_type": "stream",
     "text": [
      "1/1 [==============================] - 0s 33ms/step\n"
     ]
    },
    {
     "data": {
      "text/plain": [
       "<matplotlib.image.AxesImage at 0x17917a3dca0>"
      ]
     },
     "execution_count": 27,
     "metadata": {},
     "output_type": "execute_result"
    },
    {
     "data": {
      "image/png": "[encoded data removed]",
      "text/plain": [
       "<Figure size 640x480 with 1 Axes>"
      ]
     },
     "metadata": {},
     "output_type": "display_data"
    }
   ],
   "source": [
    "img=model.predict(test_X[101].reshape(1,28,28))\n",
    "plt.imshow(img)"
   ]
  },
  {
   "cell_type": "code",
   "execution_count": null,
   "id": "b37d159a-1cdf-48d9-8794-865385652eaf",
   "metadata": {},
   "outputs": [],
   "source": []
  }
 ],
 "metadata": {
  "kernelspec": {
   "display_name": "Python 3 (ipykernel)",
   "language": "python",
   "name": "python3"
  },
  "language_info": {
   "codemirror_mode": {
    "name": "ipython",
    "version": 3
   },
   "file_extension": ".py",
   "mimetype": "text/x-python",
   "name": "python",
   "nbconvert_exporter": "python",
   "pygments_lexer": "ipython3",
   "version": "3.9.18"
  }
 },
 "nbformat": 4,
 "nbformat_minor": 5
}
